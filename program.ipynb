{
 "cells": [
  {
   "cell_type": "code",
   "execution_count": 1,
   "id": "0556fd2a-3153-45aa-8cde-342ececbeab1",
   "metadata": {},
   "outputs": [],
   "source": [
    "from ui import create_widgets"
   ]
  },
  {
   "cell_type": "code",
   "execution_count": 2,
   "id": "5ec107e4-0a25-4ad8-8988-4ffb9784c942",
   "metadata": {},
   "outputs": [
    {
     "data": {
      "application/vnd.jupyter.widget-view+json": {
       "model_id": "ec0729c2556c4a369b52f30d97dddd73",
       "version_major": 2,
       "version_minor": 0
      },
      "text/plain": [
       "VBox(children=(Label(value='Select the start and end date and time for the radar loop:'), HBox(children=(DateP…"
      ]
     },
     "metadata": {},
     "output_type": "display_data"
    }
   ],
   "source": [
    "# Create and display the widgets\n",
    "widget_box = create_widgets()\n",
    "display(widget_box)"
   ]
  },
  {
   "cell_type": "code",
   "execution_count": null,
   "id": "9a1c72e7-ab1f-4aca-843d-611685f8ff4f",
   "metadata": {},
   "outputs": [],
   "source": [
    "from utils import test_func\n",
    "test_func(widget_box)\n"
   ]
  },
  {
   "cell_type": "code",
   "execution_count": 3,
   "id": "58c7238e-0981-4bd1-88ce-4562ae858492",
   "metadata": {},
   "outputs": [
    {
     "ename": "AttributeError",
     "evalue": "'Label' object has no attribute 'children'",
     "output_type": "error",
     "traceback": [
      "\u001b[1;31m---------------------------------------------------------------------------\u001b[0m",
      "\u001b[1;31mAttributeError\u001b[0m                            Traceback (most recent call last)",
      "Cell \u001b[1;32mIn[3], line 4\u001b[0m\n\u001b[0;32m      1\u001b[0m values_array \u001b[38;5;241m=\u001b[39m []\n\u001b[0;32m      3\u001b[0m \u001b[38;5;28;01mfor\u001b[39;00m child \u001b[38;5;129;01min\u001b[39;00m widget_box\u001b[38;5;241m.\u001b[39mchildren:\n\u001b[1;32m----> 4\u001b[0m     \u001b[38;5;28;01mfor\u001b[39;00m sub_child \u001b[38;5;129;01min\u001b[39;00m \u001b[43mchild\u001b[49m\u001b[38;5;241;43m.\u001b[39;49m\u001b[43mchildren\u001b[49m:\n\u001b[0;32m      5\u001b[0m         \u001b[38;5;28mprint\u001b[39m(sub_child\u001b[38;5;241m.\u001b[39mvalue)\n\u001b[0;32m      6\u001b[0m         values_array\u001b[38;5;241m.\u001b[39mappend(sub_child\u001b[38;5;241m.\u001b[39mvalue)\n",
      "\u001b[1;31mAttributeError\u001b[0m: 'Label' object has no attribute 'children'"
     ]
    }
   ],
   "source": [
    "values_array = []\n",
    "\n",
    "for child in widget_box.children:\n",
    "    for sub_child in child.children:\n",
    "        print(sub_child.value)\n",
    "        values_array.append(sub_child.value)"
   ]
  },
  {
   "cell_type": "code",
   "execution_count": null,
   "id": "77970c5f-7f38-4277-abc6-2d4a5e54c0a4",
   "metadata": {},
   "outputs": [],
   "source": [
    "print(values_array)"
   ]
  },
  {
   "cell_type": "code",
   "execution_count": null,
   "id": "14c6a7bf-336b-466b-b59c-c4fd24a9f582",
   "metadata": {},
   "outputs": [],
   "source": [
    "start_time = datetime.strptime(values_array[1], '%H:%M').time()\n",
    "start_date = values_array[0]\n",
    "print(start_date.year)"
   ]
  },
  {
   "cell_type": "code",
   "execution_count": null,
   "id": "b38a41fe-52ba-45b7-b559-ea55101884d5",
   "metadata": {},
   "outputs": [],
   "source": []
  }
 ],
 "metadata": {
  "kernelspec": {
   "display_name": "Python 3 (ipykernel)",
   "language": "python",
   "name": "python3"
  },
  "language_info": {
   "codemirror_mode": {
    "name": "ipython",
    "version": 3
   },
   "file_extension": ".py",
   "mimetype": "text/x-python",
   "name": "python",
   "nbconvert_exporter": "python",
   "pygments_lexer": "ipython3",
   "version": "3.9.19"
  }
 },
 "nbformat": 4,
 "nbformat_minor": 5
}
