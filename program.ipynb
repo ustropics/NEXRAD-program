{
 "cells": [
  {
   "cell_type": "code",
   "execution_count": 2,
   "id": "0556fd2a-3153-45aa-8cde-342ececbeab1",
   "metadata": {},
   "outputs": [],
   "source": [
    "from ui import create_widgets"
   ]
  },
  {
   "cell_type": "code",
   "execution_count": 3,
   "id": "5ec107e4-0a25-4ad8-8988-4ffb9784c942",
   "metadata": {},
   "outputs": [
    {
     "data": {
      "application/vnd.jupyter.widget-view+json": {
       "model_id": "6af42c4a30d84b21801b9bb4449abbc0",
       "version_major": 2,
       "version_minor": 0
      },
      "text/plain": [
       "VBox(children=(HBox(children=(DatePicker(value=None, description='Start Date/Time', layout=Layout(width='initi…"
      ]
     },
     "metadata": {},
     "output_type": "display_data"
    }
   ],
   "source": [
    "display(create_widgets())"
   ]
  },
  {
   "cell_type": "code",
   "execution_count": null,
   "id": "4b2f5665-e08d-4458-9a4a-52d3fe852b5b",
   "metadata": {},
   "outputs": [],
   "source": []
  }
 ],
 "metadata": {
  "kernelspec": {
   "display_name": "Python 3 (ipykernel)",
   "language": "python",
   "name": "python3"
  },
  "language_info": {
   "codemirror_mode": {
    "name": "ipython",
    "version": 3
   },
   "file_extension": ".py",
   "mimetype": "text/x-python",
   "name": "python",
   "nbconvert_exporter": "python",
   "pygments_lexer": "ipython3",
   "version": "3.9.19"
  }
 },
 "nbformat": 4,
 "nbformat_minor": 5
}
