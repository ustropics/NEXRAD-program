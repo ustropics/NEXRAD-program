{
 "cells": [
  {
   "cell_type": "code",
   "execution_count": null,
   "id": "0556fd2a-3153-45aa-8cde-342ececbeab1",
   "metadata": {},
   "outputs": [],
   "source": [
    "from ui import create_widgets"
   ]
  },
  {
   "cell_type": "code",
   "execution_count": 1,
   "id": "5ec107e4-0a25-4ad8-8988-4ffb9784c942",
   "metadata": {},
   "outputs": [
    {
     "ename": "NameError",
     "evalue": "name 'dt' is not defined",
     "output_type": "error",
     "traceback": [
      "\u001b[1;31m---------------------------------------------------------------------------\u001b[0m",
      "\u001b[1;31mNameError\u001b[0m                                 Traceback (most recent call last)",
      "Cell \u001b[1;32mIn[1], line 2\u001b[0m\n\u001b[0;32m      1\u001b[0m \u001b[38;5;66;03m# Create a list of times from 00:00 to 23:55 in 5-minute intervals\u001b[39;00m\n\u001b[1;32m----> 2\u001b[0m time_list \u001b[38;5;241m=\u001b[39m [(dt\u001b[38;5;241m.\u001b[39mtime(hour\u001b[38;5;241m=\u001b[39mhour, minute\u001b[38;5;241m=\u001b[39mminute))\u001b[38;5;241m.\u001b[39mstrftime(\u001b[38;5;124m\"\u001b[39m\u001b[38;5;124m%\u001b[39m\u001b[38;5;124mH:\u001b[39m\u001b[38;5;124m%\u001b[39m\u001b[38;5;124mM\u001b[39m\u001b[38;5;124m\"\u001b[39m)\n\u001b[0;32m      3\u001b[0m              \u001b[38;5;28;01mfor\u001b[39;00m hour \u001b[38;5;129;01min\u001b[39;00m \u001b[38;5;28mrange\u001b[39m(\u001b[38;5;241m24\u001b[39m) \u001b[38;5;28;01mfor\u001b[39;00m minute \u001b[38;5;129;01min\u001b[39;00m \u001b[38;5;28mrange\u001b[39m(\u001b[38;5;241m0\u001b[39m, \u001b[38;5;241m60\u001b[39m, \u001b[38;5;241m5\u001b[39m)]\n\u001b[0;32m      5\u001b[0m widget_start_date \u001b[38;5;241m=\u001b[39m widgets\u001b[38;5;241m.\u001b[39mDatePicker(layout\u001b[38;5;241m=\u001b[39m{\u001b[38;5;124m'\u001b[39m\u001b[38;5;124mwidth\u001b[39m\u001b[38;5;124m'\u001b[39m: \u001b[38;5;124m'\u001b[39m\u001b[38;5;124minitial\u001b[39m\u001b[38;5;124m'\u001b[39m}, description\u001b[38;5;241m=\u001b[39m\u001b[38;5;124m'\u001b[39m\u001b[38;5;124mStart Date/Time\u001b[39m\u001b[38;5;124m'\u001b[39m, disabled\u001b[38;5;241m=\u001b[39m\u001b[38;5;28;01mFalse\u001b[39;00m)\n\u001b[0;32m      6\u001b[0m widget_start_time \u001b[38;5;241m=\u001b[39m widgets\u001b[38;5;241m.\u001b[39mDropdown(layout\u001b[38;5;241m=\u001b[39m{\u001b[38;5;124m'\u001b[39m\u001b[38;5;124mwidth\u001b[39m\u001b[38;5;124m'\u001b[39m: \u001b[38;5;124m'\u001b[39m\u001b[38;5;124minitial\u001b[39m\u001b[38;5;124m'\u001b[39m}, options\u001b[38;5;241m=\u001b[39mtime_list)\n",
      "Cell \u001b[1;32mIn[1], line 2\u001b[0m, in \u001b[0;36m<listcomp>\u001b[1;34m(.0)\u001b[0m\n\u001b[0;32m      1\u001b[0m \u001b[38;5;66;03m# Create a list of times from 00:00 to 23:55 in 5-minute intervals\u001b[39;00m\n\u001b[1;32m----> 2\u001b[0m time_list \u001b[38;5;241m=\u001b[39m [(\u001b[43mdt\u001b[49m\u001b[38;5;241m.\u001b[39mtime(hour\u001b[38;5;241m=\u001b[39mhour, minute\u001b[38;5;241m=\u001b[39mminute))\u001b[38;5;241m.\u001b[39mstrftime(\u001b[38;5;124m\"\u001b[39m\u001b[38;5;124m%\u001b[39m\u001b[38;5;124mH:\u001b[39m\u001b[38;5;124m%\u001b[39m\u001b[38;5;124mM\u001b[39m\u001b[38;5;124m\"\u001b[39m)\n\u001b[0;32m      3\u001b[0m              \u001b[38;5;28;01mfor\u001b[39;00m hour \u001b[38;5;129;01min\u001b[39;00m \u001b[38;5;28mrange\u001b[39m(\u001b[38;5;241m24\u001b[39m) \u001b[38;5;28;01mfor\u001b[39;00m minute \u001b[38;5;129;01min\u001b[39;00m \u001b[38;5;28mrange\u001b[39m(\u001b[38;5;241m0\u001b[39m, \u001b[38;5;241m60\u001b[39m, \u001b[38;5;241m5\u001b[39m)]\n\u001b[0;32m      5\u001b[0m widget_start_date \u001b[38;5;241m=\u001b[39m widgets\u001b[38;5;241m.\u001b[39mDatePicker(layout\u001b[38;5;241m=\u001b[39m{\u001b[38;5;124m'\u001b[39m\u001b[38;5;124mwidth\u001b[39m\u001b[38;5;124m'\u001b[39m: \u001b[38;5;124m'\u001b[39m\u001b[38;5;124minitial\u001b[39m\u001b[38;5;124m'\u001b[39m}, description\u001b[38;5;241m=\u001b[39m\u001b[38;5;124m'\u001b[39m\u001b[38;5;124mStart Date/Time\u001b[39m\u001b[38;5;124m'\u001b[39m, disabled\u001b[38;5;241m=\u001b[39m\u001b[38;5;28;01mFalse\u001b[39;00m)\n\u001b[0;32m      6\u001b[0m widget_start_time \u001b[38;5;241m=\u001b[39m widgets\u001b[38;5;241m.\u001b[39mDropdown(layout\u001b[38;5;241m=\u001b[39m{\u001b[38;5;124m'\u001b[39m\u001b[38;5;124mwidth\u001b[39m\u001b[38;5;124m'\u001b[39m: \u001b[38;5;124m'\u001b[39m\u001b[38;5;124minitial\u001b[39m\u001b[38;5;124m'\u001b[39m}, options\u001b[38;5;241m=\u001b[39mtime_list)\n",
      "\u001b[1;31mNameError\u001b[0m: name 'dt' is not defined"
     ]
    }
   ],
   "source": [
    "# Create a list of times from 00:00 to 23:55 in 5-minute intervals\n",
    "time_list = [(dt.time(hour=hour, minute=minute)).strftime(\"%H:%M\")\n",
    "             for hour in range(24) for minute in range(0, 60, 5)]\n",
    "\n",
    "widget_start_date = widgets.DatePicker(layout={'width': 'initial'}, description='Start Date/Time', disabled=False)\n",
    "widget_start_time = widgets.Dropdown(layout={'width': 'initial'}, options=time_list)\n",
    "\n",
    "widget_end_date = widgets.DatePicker(layout={'width': 'initial'}, description='End Date/Time', disabled=False)\n",
    "widget_end_time = widgets.Dropdown(layout={'width': 'initial'}, options=time_list)\n",
    "\n",
    "lon1 = widgets.FloatText(value=7.5, description='Any:', disabled=False)\n",
    "lon2 = widgets.FloatText(value=7.5, description='Any:', disabled=False)\n",
    "lat1 = widgets.FloatText(value=7.5, description='Any:', disabled=False)\n",
    "lat2 = widgets.FloatText(value=7.5, description='Any:', disabled=False)\n",
    "\n",
    "start = widgets.HBox([widget_start_date, widget_start_time])\n",
    "end = widgets.HBox([widget_end_date, widget_end_time])\n",
    "\n",
    "widgets.VBox([start, end])"
   ]
  },
  {
   "cell_type": "code",
   "execution_count": null,
   "id": "4b2f5665-e08d-4458-9a4a-52d3fe852b5b",
   "metadata": {},
   "outputs": [],
   "source": []
  }
 ],
 "metadata": {
  "kernelspec": {
   "display_name": "Python 3 (ipykernel)",
   "language": "python",
   "name": "python3"
  },
  "language_info": {
   "codemirror_mode": {
    "name": "ipython",
    "version": 3
   },
   "file_extension": ".py",
   "mimetype": "text/x-python",
   "name": "python",
   "nbconvert_exporter": "python",
   "pygments_lexer": "ipython3",
   "version": "3.9.19"
  }
 },
 "nbformat": 4,
 "nbformat_minor": 5
}
